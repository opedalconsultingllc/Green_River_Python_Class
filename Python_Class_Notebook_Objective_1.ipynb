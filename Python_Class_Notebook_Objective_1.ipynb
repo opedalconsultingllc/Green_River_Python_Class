{
 "cells": [
  {
   "cell_type": "markdown",
   "metadata": {},
   "source": [
    "![image.png](GRC-logo_digital-green.png)\n",
    "\n",
    "# Welcome to Python programming class \n",
    "# Objective 1\n",
    "\n"
   ]
  },
  {
   "cell_type": "raw",
   "metadata": {},
   "source": [
    "The markdown above looks like this:\n",
    "![image.png](GRC-logo_digital-green.png)\n",
    "\n",
    "# Welcome to Python programming class \n",
    "# Objective 1"
   ]
  },
  {
   "cell_type": "markdown",
   "metadata": {},
   "source": [
    "## History \n",
    "Python was created by Guido van Rossum in 1991, and is an interpreted language that follows the read, evaluate, print, and loop, REPL paradigm (Python, n.d.) It is a widely used programming language, and affords the programmer higher productivity for string manipulation and dictionary searches than CPP and Java (Python, n.d.)\n",
    "\n",
    "## Common uses \n",
    "### Python is often used for: \n",
    "Web development: Examples are Django and Flask. Django is a full web development framework, whereas Flask is a lightweight framework.  \n",
    "Network and system management. \n",
    "Data Science: Numerical Python, Numpy, Panel Data, Pandas, Science "
   ]
  },
  {
   "cell_type": "markdown",
   "metadata": {},
   "source": [
    "## Resources for homework\n",
    "Python tutorial: https://www.w3schools.com/python/default.asp\n",
    "Anaconda download: https://www.anaconda.com/download/"
   ]
  },
  {
   "cell_type": "markdown",
   "metadata": {},
   "source": [
    "To effectively learn Python, it is important that you know the following:\n",
    "1. It will require effort\n",
    "2. You will become frustrated\n",
    "3. You will experience knowledge collapses. This concept will be discussed in class\n",
    "4. If you keep at it, you will learn it. You learn it by doing, thinking, and reflecting.\n",
    "5. To effectively learn, you need to test yourself often. A good way is to write code and see if it runs\n",
    "6. Google and Stackoverflow should be your goto sources when you are stuck or experiencing problems. It is a good chance that others have experienced the same problem you have. \n",
    "7. It can help your learning if you pair up with a learning buddy. You can then hold each other accountable for learning objectives you decide on, test each other, and making sure you do your homework. "
   ]
  },
  {
   "cell_type": "raw",
   "metadata": {},
   "source": [
    "# A pound or sharp sign is a comment in Python. This is raw text in a Jupyter notebook, and will not change when it is \n",
    "# executed. There are three types of cells, code, markdown, and raw. This is a raw cell. \n",
    "'''\n",
    "Three single qoutes are used for a multiline comment\n",
    "'''"
   ]
  },
  {
   "cell_type": "code",
   "execution_count": 11,
   "metadata": {},
   "outputs": [
    {
     "data": {
      "text/plain": [
       "'\\nThree single qoutes are used for a multiline comment\\n'"
      ]
     },
     "execution_count": 11,
     "metadata": {},
     "output_type": "execute_result"
    }
   ],
   "source": [
    "# A pound or sharp sign is a comment in Python. This is NOT raw text in a Jupyter notebook, and will change when it is \n",
    "# executed. \n",
    "'''\n",
    "Three single qoutes are used for a multiline comment\n",
    "'''"
   ]
  },
  {
   "cell_type": "raw",
   "metadata": {},
   "source": [
    "\"\"\"\n",
    "So is three double quotes. It is for the most part a personal preference as to use single quote or double quote.\n",
    "There are some caveats when embedding SQL code into Python code, and you might see double quotes around an SQL \n",
    "statement, and single quotes inside so that quoutes can be passed to the SQL statement. Sometimes you might see back tics \n",
    "too\n",
    "\"\"\""
   ]
  },
  {
   "cell_type": "code",
   "execution_count": 12,
   "metadata": {},
   "outputs": [
    {
     "data": {
      "text/plain": [
       "'\\nSo is three double quotes. It is for the most part a personal preference as to use single quote or double quote.\\nThere are some caveats when embedding SQL code into Python code, and you might see double quotes around an SQL \\nstatement, and single quotes inside so that quoutes can be passed to the SQL statement. Sometimes you might see back tics \\ntoo\\n'"
      ]
     },
     "execution_count": 12,
     "metadata": {},
     "output_type": "execute_result"
    }
   ],
   "source": [
    "\"\"\"\n",
    "So is three double quotes. It is for the most part a personal preference as to use single quote or double quote.\n",
    "There are some caveats when embedding SQL code into Python code, and you might see double quotes around an SQL \n",
    "statement, and single quotes inside so that quoutes can be passed to the SQL statement. Sometimes you might see back tics \n",
    "too\n",
    "\"\"\""
   ]
  },
  {
   "cell_type": "code",
   "execution_count": 3,
   "metadata": {},
   "outputs": [
    {
     "data": {
      "text/plain": [
       "\" I'm going to use a single quote inside a double quote\""
      ]
     },
     "execution_count": 3,
     "metadata": {},
     "output_type": "execute_result"
    }
   ],
   "source": [
    "# Except for when you need to wrap a quote\n",
    "\n",
    "\" I'm going to use a single quote inside a double quote\""
   ]
  },
  {
   "cell_type": "code",
   "execution_count": 4,
   "metadata": {},
   "outputs": [
    {
     "data": {
      "text/plain": [
       "\" you can also use excape '\""
      ]
     },
     "execution_count": 4,
     "metadata": {},
     "output_type": "execute_result"
    }
   ],
   "source": [
    "' you can also use excape \\''"
   ]
  },
  {
   "cell_type": "code",
   "execution_count": 5,
   "metadata": {},
   "outputs": [
    {
     "name": "stdout",
     "output_type": "stream",
     "text": [
      "Hello and Welcome to the Python Class!\n"
     ]
    }
   ],
   "source": [
    "# First we will start with a print statement\n",
    "print('Hello and Welcome to the Python Class!') "
   ]
  },
  {
   "cell_type": "markdown",
   "metadata": {},
   "source": [
    "## Python’s Data Types\n",
    "•\tIntegers \n",
    "•\tFloating Point\n",
    "•\tComplex Numbers\n",
    "•\tStrings\n",
    "•\tBoolean Type\n",
    "•\tMath \n",
    "•\tType Conversion\n",
    "•\tIterators \n",
    "•\tComposite Data Type\n",
    "•\tVariables\n",
    "•\tFunction\n",
    "•\tClasses\n",
    "•\tInput"
   ]
  },
  {
   "cell_type": "code",
   "execution_count": 13,
   "metadata": {},
   "outputs": [],
   "source": [
    "# Samples of variables with different types assigned to them\n",
    "a = 1 # integer\n",
    "b = 1.1 # float\n",
    "c = 1j #complex number\n",
    "d = 'Hello World' #string\n",
    "e = True #Boolean true\n",
    "f = False #Boolean false\n",
    "g = sum([.1,.1,.1]) # for a full listing, see https://docs.python.org/3/library/math.html\n",
    "h = hex(a) # type conversion from integer to hexadecimal string\n"
   ]
  },
  {
   "cell_type": "code",
   "execution_count": 7,
   "metadata": {},
   "outputs": [
    {
     "name": "stdout",
     "output_type": "stream",
     "text": [
      "++++++++++++++++++++++++++++++++++++++++++++++++++++++++++\n",
      "1\n",
      "a = 1 an integer\n",
      "<class 'int'>\n",
      "++++++++++++++++++++++++++++++++++++++++++++++++++++++++++\n",
      "1.1\n",
      "b = 1.1 a float\n",
      "<class 'float'>\n",
      "++++++++++++++++++++++++++++++++++++++++++++++++++++++++++\n",
      "1j\n",
      "c = 1j a complex number\n",
      "<class 'complex'>\n",
      "++++++++++++++++++++++++++++++++++++++++++++++++++++++++++\n",
      "Hello World\n",
      "d = Hello World a string\n",
      "<class 'str'>\n",
      "++++++++++++++++++++++++++++++++++++++++++++++++++++++++++\n",
      "True\n",
      "e = True a Boolean\n",
      "<class 'bool'>\n",
      "++++++++++++++++++++++++++++++++++++++++++++++++++++++++++\n",
      "False\n",
      "f = False a Boolean\n",
      "<class 'bool'>\n",
      "++++++++++++++++++++++++++++++++++++++++++++++++++++++++++\n",
      "0.30000000000000004\n",
      "g = 0.30000000000000004 a sum\n",
      "<class 'float'>\n",
      "but wait, that is a float\n",
      "<class 'builtin_function_or_method'>\n",
      "++++++++++++++++++++++++++++++++++++++++++++++++++++++++++\n",
      "0x1\n",
      "h = 0x1 a hexadecimal value \n",
      "<class 'str'>\n",
      "but wait, that is a string\n",
      "<class 'builtin_function_or_method'>\n",
      "++++++++++++++++++++++++++++++++++++++++++++++++++++++++++\n"
     ]
    }
   ],
   "source": [
    "print('++++++++++++++++++++++++++++++++++++++++++++++++++++++++++')\n",
    "print(a)\n",
    "print('a = '+ str(a) +' an integer')\n",
    "print(type(a))\n",
    "print('++++++++++++++++++++++++++++++++++++++++++++++++++++++++++')\n",
    "print(b)\n",
    "print('b = '+ str(b) +' a float')\n",
    "print(type(b))\n",
    "print('++++++++++++++++++++++++++++++++++++++++++++++++++++++++++')\n",
    "print(c)\n",
    "print('c = '+ str(c) +' a complex number')\n",
    "print(type(c))\n",
    "print('++++++++++++++++++++++++++++++++++++++++++++++++++++++++++')\n",
    "print(d)\n",
    "print('d = '+ d +' a string')\n",
    "print(type(d))\n",
    "print('++++++++++++++++++++++++++++++++++++++++++++++++++++++++++')\n",
    "print(e)\n",
    "print('e = '+ str(e) +' a Boolean')\n",
    "print(type(e))\n",
    "print('++++++++++++++++++++++++++++++++++++++++++++++++++++++++++')\n",
    "print(f)\n",
    "print('f = '+ str(f) +' a Boolean')\n",
    "print(type(f))\n",
    "print('++++++++++++++++++++++++++++++++++++++++++++++++++++++++++')\n",
    "print(g)\n",
    "print('g = '+ str(g) +' a sum')\n",
    "print(type(g))\n",
    "print('but wait, that is a float')\n",
    "print(type(sum))\n",
    "print('++++++++++++++++++++++++++++++++++++++++++++++++++++++++++')\n",
    "print(h)\n",
    "print('h = '+ str(h) +' a hexadecimal value ')\n",
    "print(type(h))\n",
    "print('but wait, that is a string')\n",
    "print(type(hex))\n",
    "print('++++++++++++++++++++++++++++++++++++++++++++++++++++++++++')"
   ]
  },
  {
   "cell_type": "code",
   "execution_count": 8,
   "metadata": {},
   "outputs": [
    {
     "name": "stdout",
     "output_type": "stream",
     "text": [
      "++++++++++\n",
      "1 : <class 'int'>\n",
      "++++++++++\n",
      "\n",
      "++++++++++\n",
      "1.1 : <class 'float'>\n",
      "++++++++++\n",
      "\n",
      "++++++++++\n",
      "1j : <class 'complex'>\n",
      "++++++++++\n",
      "\n",
      "++++++++++\n",
      "Hello World : <class 'str'>\n",
      "++++++++++\n",
      "\n",
      "++++++++++\n",
      "True : <class 'bool'>\n",
      "++++++++++\n",
      "\n",
      "++++++++++\n",
      "False : <class 'bool'>\n",
      "++++++++++\n",
      "\n",
      "++++++++++\n",
      "0.30000000000000004 : <class 'float'>\n",
      "++++++++++\n",
      "\n",
      "++++++++++\n",
      "0x1 : <class 'str'>\n",
      "++++++++++\n",
      "\n"
     ]
    }
   ],
   "source": [
    "lst = []\n",
    "lst = [a,b,c,d,e,f,g,h]\n",
    "ltr = '+'\n",
    "for i in lst:\n",
    "    print(str(ltr*10) + '\\n' + str(i) + ' : ' + str(type(i)) + '\\n' + str(ltr*10)+ '\\n')"
   ]
  },
  {
   "cell_type": "code",
   "execution_count": 9,
   "metadata": {},
   "outputs": [
    {
     "data": {
      "text/plain": [
       "'++++++++++'"
      ]
     },
     "execution_count": 9,
     "metadata": {},
     "output_type": "execute_result"
    }
   ],
   "source": [
    "ltr = '+'\n",
    "ltr*10"
   ]
  },
  {
   "cell_type": "code",
   "execution_count": 10,
   "metadata": {},
   "outputs": [],
   "source": [
    "#iterator\n",
    "tup_fruit = (\"pineapple\", \"tomato\", \"orange\")\n",
    "iter_tup = iter(tup_fruit)"
   ]
  },
  {
   "cell_type": "code",
   "execution_count": 11,
   "metadata": {},
   "outputs": [
    {
     "name": "stdout",
     "output_type": "stream",
     "text": [
      "pineapple\n",
      "tomato\n",
      "orange\n"
     ]
    }
   ],
   "source": [
    "print(next(iter_tup))\n",
    "print(next(iter_tup))\n",
    "print(next(iter_tup))"
   ]
  },
  {
   "cell_type": "code",
   "execution_count": 12,
   "metadata": {},
   "outputs": [
    {
     "name": "stdout",
     "output_type": "stream",
     "text": [
      "pineapple\n",
      "tomato\n",
      "orange\n"
     ]
    }
   ],
   "source": [
    "for fruit in tup_fruit:\n",
    "    print(fruit)"
   ]
  },
  {
   "cell_type": "markdown",
   "metadata": {},
   "source": [
    "## Function\n",
    "Here is a simple function that multiplies two numbers in a cell. In the cell below, we call the function and recive the output"
   ]
  },
  {
   "cell_type": "code",
   "execution_count": 13,
   "metadata": {},
   "outputs": [],
   "source": [
    "# function\n",
    "def multiplier(x,y):\n",
    "    z = (x*y)\n",
    "    return z"
   ]
  },
  {
   "cell_type": "code",
   "execution_count": 14,
   "metadata": {},
   "outputs": [
    {
     "data": {
      "text/plain": [
       "6"
      ]
     },
     "execution_count": 14,
     "metadata": {},
     "output_type": "execute_result"
    }
   ],
   "source": [
    "multiplier(2,3)"
   ]
  },
  {
   "cell_type": "markdown",
   "metadata": {},
   "source": [
    "## Classes\n",
    "Here is a simple class which allows an object to be created. (Python is object oriented if you want it to be)"
   ]
  },
  {
   "cell_type": "code",
   "execution_count": 15,
   "metadata": {},
   "outputs": [],
   "source": [
    "#Classes are the blueprint for objects\n",
    "class class_x:\n",
    "    x = 7"
   ]
  },
  {
   "cell_type": "code",
   "execution_count": 16,
   "metadata": {},
   "outputs": [
    {
     "name": "stdout",
     "output_type": "stream",
     "text": [
      "7\n"
     ]
    }
   ],
   "source": [
    "object1 = class_x()\n",
    "print(object1.x)"
   ]
  },
  {
   "cell_type": "code",
   "execution_count": 17,
   "metadata": {},
   "outputs": [
    {
     "name": "stdout",
     "output_type": "stream",
     "text": [
      "<__main__.class_x object at 0x00000152E621BAC8>\n"
     ]
    }
   ],
   "source": [
    "print(object1)"
   ]
  },
  {
   "cell_type": "code",
   "execution_count": 18,
   "metadata": {},
   "outputs": [],
   "source": [
    "class Student():\n",
    "    ''' Creates student objects'''\n",
    "    def __init__(self, f_name, l_name):\n",
    "        self.first = f_name\n",
    "        self.last = l_name\n",
    "        self.fullname = self.first + ' ' + self.last\n",
    "    def email(self):\n",
    "        return '{}.{}@greenriver.edu'.format(self.first, self.last)"
   ]
  },
  {
   "cell_type": "code",
   "execution_count": 19,
   "metadata": {},
   "outputs": [],
   "source": [
    "student = Student('Bob','Hansen')"
   ]
  },
  {
   "cell_type": "code",
   "execution_count": 20,
   "metadata": {},
   "outputs": [
    {
     "name": "stdout",
     "output_type": "stream",
     "text": [
      "First name:\t Bob\n",
      "Last name:\t Hansen\n",
      "Full name:\t Bob Hansen\n",
      "Email:\t\t Bob.Hansen@greenriver.edu\n"
     ]
    }
   ],
   "source": [
    "print('First name:\\t',student.first)\n",
    "print('Last name:\\t',student.last)\n",
    "print('Full name:\\t',student.fullname)\n",
    "print('Email:\\t\\t',student.email())"
   ]
  },
  {
   "cell_type": "markdown",
   "metadata": {},
   "source": [
    "## Input from the user"
   ]
  },
  {
   "cell_type": "code",
   "execution_count": null,
   "metadata": {},
   "outputs": [],
   "source": [
    "you = input()"
   ]
  },
  {
   "cell_type": "code",
   "execution_count": null,
   "metadata": {},
   "outputs": [],
   "source": [
    "print(you)"
   ]
  },
  {
   "cell_type": "markdown",
   "metadata": {},
   "source": [
    "## Data structures\n",
    "### Lists"
   ]
  },
  {
   "cell_type": "code",
   "execution_count": null,
   "metadata": {},
   "outputs": [],
   "source": [
    "# List\n",
    "# first create an empty list\n",
    "lst1 = []\n",
    "# then fill it\n",
    "lst = [1,2,3,4,5,6,7]\n"
   ]
  },
  {
   "cell_type": "markdown",
   "metadata": {},
   "source": [
    "### Dictionaries"
   ]
  },
  {
   "cell_type": "code",
   "execution_count": null,
   "metadata": {},
   "outputs": [],
   "source": [
    "# Dictionaries\n",
    "dct1 = {}\n",
    "dct1 = {1,2,3,4,5}"
   ]
  },
  {
   "cell_type": "markdown",
   "metadata": {},
   "source": [
    "Tuples"
   ]
  },
  {
   "cell_type": "code",
   "execution_count": null,
   "metadata": {},
   "outputs": [],
   "source": [
    "Tup1 = (1,2,3,4,5)"
   ]
  },
  {
   "cell_type": "markdown",
   "metadata": {},
   "source": [
    "### Sets"
   ]
  },
  {
   "cell_type": "code",
   "execution_count": null,
   "metadata": {},
   "outputs": [],
   "source": [
    "set1 = {'house', 'car', 'garage'}\n",
    "for s in set1:\n",
    "    print(s)\n",
    "# note: Sets are unordered, so the order items will appear is random."
   ]
  },
  {
   "cell_type": "markdown",
   "metadata": {},
   "source": [
    "### Strings\n",
    "For information of formatting strings, see: https://pyformat.info/\n",
    "String formatting allows you to pass variables into strings"
   ]
  },
  {
   "cell_type": "code",
   "execution_count": null,
   "metadata": {},
   "outputs": [],
   "source": [
    "string1 = 'Hello Class, Welcome to Python'"
   ]
  },
  {
   "cell_type": "markdown",
   "metadata": {},
   "source": [
    "Strings are ordered lists, and are indexable:\n",
    "Character:      h  e  l  l  o\n",
    "Index:          0  1  2  3  4\n",
    "Reverse Index: -5 -4 -3 -2 -1\n",
    "It can be sliced using []\n",
    "[start:stop:step]\n",
    "Remeber that Python is zero ordered (starts at zero). R starts at 1"
   ]
  },
  {
   "cell_type": "code",
   "execution_count": null,
   "metadata": {},
   "outputs": [],
   "source": [
    "string1[0]"
   ]
  },
  {
   "cell_type": "code",
   "execution_count": null,
   "metadata": {},
   "outputs": [],
   "source": [
    "string1[-5]"
   ]
  },
  {
   "cell_type": "code",
   "execution_count": null,
   "metadata": {},
   "outputs": [],
   "source": [
    "string1[1:4:2]"
   ]
  },
  {
   "cell_type": "code",
   "execution_count": null,
   "metadata": {},
   "outputs": [],
   "source": [
    "string1[::2]"
   ]
  },
  {
   "cell_type": "code",
   "execution_count": null,
   "metadata": {},
   "outputs": [],
   "source": [
    "string1[::-1]"
   ]
  },
  {
   "cell_type": "code",
   "execution_count": null,
   "metadata": {},
   "outputs": [],
   "source": [
    "# Use TAB complete by typing a period after the variable and then using the TAB key\n",
    "string1.upper()"
   ]
  },
  {
   "cell_type": "code",
   "execution_count": null,
   "metadata": {},
   "outputs": [],
   "source": [
    "print('Hello{}'.format(' you'))"
   ]
  },
  {
   "cell_type": "code",
   "execution_count": null,
   "metadata": {},
   "outputs": [],
   "source": [
    "# New in Python 3.6 is the \n",
    "name = 'Bob'\n",
    "print(f'Hello {name}')"
   ]
  },
  {
   "cell_type": "markdown",
   "metadata": {},
   "source": [
    "##\tControl Flow Statements\n",
    "•\tif\n",
    "•\telif\n",
    "•\tfor\n",
    "•\trange\n",
    "•\tbreak/continue\n",
    "•\telse\n",
    "•\tpass\n"
   ]
  },
  {
   "cell_type": "markdown",
   "metadata": {},
   "source": [
    "### While\n"
   ]
  },
  {
   "cell_type": "code",
   "execution_count": null,
   "metadata": {},
   "outputs": [],
   "source": [
    "x = 1\n",
    "while x < 5:\n",
    "    print(x)\n",
    "    x+=1"
   ]
  },
  {
   "cell_type": "markdown",
   "metadata": {},
   "source": [
    "### if and elif\n"
   ]
  },
  {
   "cell_type": "code",
   "execution_count": null,
   "metadata": {},
   "outputs": [],
   "source": [
    "y = 0\n",
    "while y < 5:\n",
    "    if y%2 == 0:\n",
    "        print(str(y), ' is even')\n",
    "    elif y%2 != 0:\n",
    "        print(str(y), ' is odd')\n",
    "    y+=1"
   ]
  },
  {
   "cell_type": "markdown",
   "metadata": {},
   "source": [
    "### Range\n"
   ]
  },
  {
   "cell_type": "code",
   "execution_count": null,
   "metadata": {},
   "outputs": [],
   "source": [
    "z = range(5)\n",
    "for i in z:\n",
    "    print(i)"
   ]
  },
  {
   "cell_type": "markdown",
   "metadata": {},
   "source": [
    "### Break\n"
   ]
  },
  {
   "cell_type": "code",
   "execution_count": null,
   "metadata": {},
   "outputs": [],
   "source": [
    "n = 0\n",
    "for n in range(10):\n",
    "    n = n + 1\n",
    "\n",
    "    if n == 6:\n",
    "        break    # break will cause the loop to break here\n",
    "\n",
    "    print('Number is ' + str(n))\n",
    "\n",
    "print('Broke out of loop')"
   ]
  },
  {
   "cell_type": "markdown",
   "metadata": {},
   "source": [
    "### if elif and else\n"
   ]
  },
  {
   "cell_type": "code",
   "execution_count": null,
   "metadata": {},
   "outputs": [],
   "source": [
    "x = int(input(\"Please enter an integer: \"))"
   ]
  },
  {
   "cell_type": "code",
   "execution_count": null,
   "metadata": {},
   "outputs": [],
   "source": [
    "if x < 0:\n",
    "    x = 0\n",
    "    print('Negative changed to zero')\n",
    "elif x == 0:\n",
    "    print('Zero')\n",
    "elif x == 1:\n",
    "    print('One')\n",
    "else:\n",
    "    print('More than one')"
   ]
  },
  {
   "cell_type": "markdown",
   "metadata": {},
   "source": [
    "### pass\n"
   ]
  },
  {
   "cell_type": "code",
   "execution_count": null,
   "metadata": {},
   "outputs": [],
   "source": [
    "for c in 'Green River College': \n",
    "    if c == 'C':\n",
    "        pass\n",
    "        print('This is the pass code block')\n",
    "    print('Current Character :', c)\n",
    "print(\"Bye!\")"
   ]
  },
  {
   "cell_type": "markdown",
   "metadata": {},
   "source": [
    "## Describe Data Operations\n",
    "#### •\tManipulate list\n",
    "#### •\tCreate, Append, Delete\n",
    "#### •\tManipulate strings\n",
    "#### •\tCreate a list from a string\n",
    "#### •\tManipulate dictionary\n",
    "#### •\tCreate, Append, Delete\n"
   ]
  },
  {
   "cell_type": "code",
   "execution_count": null,
   "metadata": {},
   "outputs": [],
   "source": [
    "lst_lst = []\n",
    "lst_lst = ['bob', 'joe','amy',1,2,3]"
   ]
  },
  {
   "cell_type": "code",
   "execution_count": null,
   "metadata": {},
   "outputs": [],
   "source": [
    "print(lst_lst)"
   ]
  },
  {
   "cell_type": "code",
   "execution_count": null,
   "metadata": {},
   "outputs": [],
   "source": [
    "lst_lst.append('chef')"
   ]
  },
  {
   "cell_type": "code",
   "execution_count": null,
   "metadata": {},
   "outputs": [],
   "source": [
    "print(lst_lst)"
   ]
  },
  {
   "cell_type": "code",
   "execution_count": null,
   "metadata": {},
   "outputs": [],
   "source": [
    "lst_lst.remove('bob')"
   ]
  },
  {
   "cell_type": "code",
   "execution_count": null,
   "metadata": {},
   "outputs": [],
   "source": [
    "print(lst_lst)"
   ]
  },
  {
   "cell_type": "markdown",
   "metadata": {},
   "source": [
    "Dictionaries have both a key and value"
   ]
  },
  {
   "cell_type": "code",
   "execution_count": null,
   "metadata": {},
   "outputs": [],
   "source": [
    "# Dictionary consisting of strings and integers\n",
    "dict_word_freq = {\n",
    "    \"Answer\": 42,\n",
    "    \"Movie\" : 23 ,\n",
    "    \"Space\" : 24,\n",
    "    \"Oldie\" : 10\n",
    "    }"
   ]
  },
  {
   "cell_type": "code",
   "execution_count": null,
   "metadata": {},
   "outputs": [],
   "source": [
    "print(dict_word_freq)"
   ]
  },
  {
   "cell_type": "code",
   "execution_count": null,
   "metadata": {},
   "outputs": [],
   "source": [
    "# delete by key\n",
    "del dict_word_freq['Oldie']"
   ]
  },
  {
   "cell_type": "code",
   "execution_count": null,
   "metadata": {},
   "outputs": [],
   "source": [
    "print(dict_word_freq)"
   ]
  },
  {
   "cell_type": "code",
   "execution_count": null,
   "metadata": {},
   "outputs": [],
   "source": [
    "# Deleting an entry from the dictionary using pop()     \n",
    " \n",
    "# If a key is present in the dictionary, pop() will delete its entry and return its value    \n",
    "result = dict_word_freq.pop('Space', None)    \n",
    " \n",
    "print(\"Deleted item's value = \", result)\n",
    "print(\"Updated Dictionary :\" , dict_word_freq)  "
   ]
  },
  {
   "cell_type": "code",
   "execution_count": null,
   "metadata": {},
   "outputs": [],
   "source": [
    "# To add a new key value pair\n",
    "dict_word_freq.update(Space = 42)"
   ]
  },
  {
   "cell_type": "code",
   "execution_count": null,
   "metadata": {},
   "outputs": [],
   "source": [
    "print(dict_word_freq)"
   ]
  },
  {
   "cell_type": "code",
   "execution_count": null,
   "metadata": {},
   "outputs": [],
   "source": [
    "#updating a dictionary with items from a list of tuples\n",
    "dict_word_freq.update([ ('who', 5), ('when', 5), ('where', 4) , ('what' , 20), ('why', 6)] )\n",
    "print(dict_word_freq)"
   ]
  },
  {
   "cell_type": "markdown",
   "metadata": {},
   "source": [
    "## Strings\n",
    "Splitting strings is a common pattern along with regular expressions. You may find a json file with lists inside of a dictionary, and find yourself needing to parse through the list."
   ]
  },
  {
   "cell_type": "code",
   "execution_count": null,
   "metadata": {},
   "outputs": [],
   "source": [
    "string1.split()"
   ]
  },
  {
   "cell_type": "code",
   "execution_count": null,
   "metadata": {},
   "outputs": [],
   "source": [
    "string1.split()"
   ]
  },
  {
   "cell_type": "code",
   "execution_count": null,
   "metadata": {},
   "outputs": [],
   "source": [
    "type(string1.split())"
   ]
  },
  {
   "cell_type": "markdown",
   "metadata": {},
   "source": [
    "##\tDescribe Python Modules\n",
    "#### •\tDiscuss conda versus pip\n",
    "#### •\tHow to use built in modules\n",
    "#### •\tHow to install modules\n",
    "#### •\tDiscuss Pandas and Numpy"
   ]
  },
  {
   "cell_type": "markdown",
   "metadata": {},
   "source": [
    "Conda comes with preloaded libraries specifically tailored for data science. Pip has a significantly larger number of libraries, so if you cannot find the package you need when you type in conda install  <package name>, you can go to pip and use the command pip install <package name>. \n",
    "\n",
    "1. To install libraries, go to the start button and type in cmd. Right click and select run as Administrator.\n",
    "2. On the command propmt type: conda install scikit-learn\n",
    "3. If the package/library/module does not exist in the conda repository type the following on the command promt:\n",
    "4. pip install python-docx\n",
    "\n",
    "The package python-docx allows you to create and manipulate word documents. This comes in handy when you generate automated reports or create manual operating procedures, MOPs. \n",
    "\n",
    "A module is a file consisting of Python code. A module can define functions, classes and variables. A module can also include runnable code.\n",
    "\n",
    "To import the Pandas and Numpy module use the following syntax\n",
    "import pandas as pd\n",
    "import numpy as np\n",
    "\n",
    "## Pandas\n",
    "Pandas is a software library written for the Python programming language for data manipulation and analysis that provides data structures and operations for manipulating data frames consisting of numerical tables and time series (Pandas, n.d) \n",
    "\n",
    "Pandas will be discussed more extensively in later lectures"
   ]
  },
  {
   "cell_type": "markdown",
   "metadata": {},
   "source": [
    "References\n",
    "Pandas (software). (n.d.). In Wikipedia. Retrieved November 17, 2018 from https://en.wikipedia.org/wiki/Pandas_(software)\n",
    "Python (programming language). (n.d.). In Wikipedia. Retrieved November 15, 2018 from https://en.wikipedia.org/wiki/Python_(programming_language)"
   ]
  },
  {
   "cell_type": "markdown",
   "metadata": {},
   "source": [
    "Ⓒ2018 Green River College. All rights reserved."
   ]
  }
 ],
 "metadata": {
  "kernelspec": {
   "display_name": "Python 3",
   "language": "python",
   "name": "python3"
  },
  "language_info": {
   "codemirror_mode": {
    "name": "ipython",
    "version": 3
   },
   "file_extension": ".py",
   "mimetype": "text/x-python",
   "name": "python",
   "nbconvert_exporter": "python",
   "pygments_lexer": "ipython3",
   "version": "3.6.5"
  }
 },
 "nbformat": 4,
 "nbformat_minor": 2
}
