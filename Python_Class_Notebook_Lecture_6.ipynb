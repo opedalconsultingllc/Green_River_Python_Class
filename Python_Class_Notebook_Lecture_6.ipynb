{
 "cells": [
  {
   "cell_type": "markdown",
   "metadata": {},
   "source": [
    "# Welcome to the Python programming class \n",
    "## Lecture 6\n",
    "## Objective 6\n",
    "### Write a web front end that interfaces with a SQL database "
   ]
  },
  {
   "cell_type": "markdown",
   "metadata": {},
   "source": [
    "#### For this lecture and lab, we will use VS Code as Flask does not work well with Jupyter\n",
    "A sample code file will be provided in class\n",
    "\n",
    "## Flask (web framework)\n",
    "Flask is a light weight micro web framework for Python developers that does not require particular tools or libraries and has no database abstraction layer, form validation, or other components. \n",
    "\n",
    "##### Resource: https://en.wikipedia.org/wiki/Flask_(web_framework)"
   ]
  },
  {
   "cell_type": "markdown",
   "metadata": {},
   "source": [
    "\n",
    "References: Flask (web framework). (n.d.). In Wikipedia. Retrieved November 18, 2018 from https://en.wikipedia.org/wiki/Flask_(web_framework)"
   ]
  },
  {
   "cell_type": "code",
   "execution_count": null,
   "metadata": {},
   "outputs": [],
   "source": []
  }
 ],
 "metadata": {
  "kernelspec": {
   "display_name": "Python 3",
   "language": "python",
   "name": "python3"
  },
  "language_info": {
   "codemirror_mode": {
    "name": "ipython",
    "version": 3
   },
   "file_extension": ".py",
   "mimetype": "text/x-python",
   "name": "python",
   "nbconvert_exporter": "python",
   "pygments_lexer": "ipython3",
   "version": "3.6.5"
  }
 },
 "nbformat": 4,
 "nbformat_minor": 2
}
