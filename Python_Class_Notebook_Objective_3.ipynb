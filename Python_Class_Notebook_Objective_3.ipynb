{
 "cells": [
  {
   "cell_type": "markdown",
   "metadata": {},
   "source": [
    "![image.png](GRC-logo_digital-green.png)\n",
    "\n",
    "# Welcome to Python programming class \n",
    "# Objective 3"
   ]
  },
  {
   "cell_type": "markdown",
   "metadata": {},
   "source": [
    "## How to define and use lists, dictionaries and functions in a Python script"
   ]
  },
  {
   "cell_type": "markdown",
   "metadata": {},
   "source": [
    "1. Lists can hold different object types and is in an ordered sequence\n",
    "2. Lists use brackets, [] to hold the objects that are separated with commas\n",
    "3. For example: ['dog', 'cat',1,2,3,5.5, 6.567]\n",
    "4. Lists support slicing and indexing\n",
    "5. You can have lists of lists\n",
    "6. You can also have lists of dictionaries. Conversely, dictionaries can also contain lists"
   ]
  },
  {
   "cell_type": "markdown",
   "metadata": {},
   "source": [
    "## Manipulate lists"
   ]
  },
  {
   "cell_type": "code",
   "execution_count": 1,
   "metadata": {},
   "outputs": [],
   "source": [
    "# first we create a list and set it to be empty\n",
    "lst = []\n",
    "# then we fill the list with items. In this case a set of integers\n",
    "lst = [1,2,3,3,2,4,3,5,3,4,2,1]"
   ]
  },
  {
   "cell_type": "code",
   "execution_count": 2,
   "metadata": {},
   "outputs": [
    {
     "name": "stdout",
     "output_type": "stream",
     "text": [
      "[1, 2, 3, 3, 2, 4, 3, 5, 3, 4, 2, 1]\n"
     ]
    }
   ],
   "source": [
    "print(lst)"
   ]
  },
  {
   "cell_type": "code",
   "execution_count": 3,
   "metadata": {},
   "outputs": [
    {
     "data": {
      "text/plain": [
       "12"
      ]
     },
     "execution_count": 3,
     "metadata": {},
     "output_type": "execute_result"
    }
   ],
   "source": [
    "len(lst)"
   ]
  },
  {
   "cell_type": "markdown",
   "metadata": {},
   "source": [
    "## Manipulate dictionaries"
   ]
  },
  {
   "cell_type": "markdown",
   "metadata": {},
   "source": [
    "Dictionaries have both a key and value"
   ]
  },
  {
   "cell_type": "code",
   "execution_count": 4,
   "metadata": {},
   "outputs": [],
   "source": [
    "# Dictionaries\n",
    "dct1 = {}\n",
    "dct1 = {1,2,3,4,5}"
   ]
  },
  {
   "cell_type": "code",
   "execution_count": 5,
   "metadata": {},
   "outputs": [],
   "source": [
    "# Dictionary consisting of strings and integers\n",
    "dict_word_freq = {\n",
    "    \"Answer\": 42,\n",
    "    \"Movie\" : 23 ,\n",
    "    \"Space\" : 24,\n",
    "    \"Oldie\" : 10\n",
    "    }"
   ]
  },
  {
   "cell_type": "code",
   "execution_count": 6,
   "metadata": {},
   "outputs": [
    {
     "name": "stdout",
     "output_type": "stream",
     "text": [
      "{'Answer': 42, 'Movie': 23, 'Space': 24, 'Oldie': 10}\n"
     ]
    }
   ],
   "source": [
    "print(dict_word_freq)"
   ]
  },
  {
   "cell_type": "code",
   "execution_count": 7,
   "metadata": {},
   "outputs": [],
   "source": [
    "# delete by key\n",
    "del dict_word_freq['Oldie']"
   ]
  },
  {
   "cell_type": "code",
   "execution_count": 8,
   "metadata": {},
   "outputs": [
    {
     "name": "stdout",
     "output_type": "stream",
     "text": [
      "Deleted item's value =  24\n",
      "Updated Dictionary : {'Answer': 42, 'Movie': 23}\n"
     ]
    }
   ],
   "source": [
    "# Deleting an entry from the dictionary using pop()     \n",
    " \n",
    "# If a key is present in the dictionary, pop() will delete its entry and return its value    \n",
    "result = dict_word_freq.pop('Space', None)    \n",
    " \n",
    "print(\"Deleted item's value = \", result)\n",
    "print(\"Updated Dictionary :\" , dict_word_freq)  "
   ]
  },
  {
   "cell_type": "code",
   "execution_count": 9,
   "metadata": {},
   "outputs": [
    {
     "name": "stdout",
     "output_type": "stream",
     "text": [
      "{'Answer': 42, 'Movie': 23, 'Space': 42}\n"
     ]
    }
   ],
   "source": [
    "# To add a new key value pair\n",
    "dict_word_freq.update(Space = 42)\n",
    "print(dict_word_freq)"
   ]
  },
  {
   "cell_type": "code",
   "execution_count": 10,
   "metadata": {},
   "outputs": [
    {
     "name": "stdout",
     "output_type": "stream",
     "text": [
      "{'Answer': 42, 'Movie': 23, 'Space': 42, 'who': 5, 'when': 5, 'where': 4, 'what': 20, 'why': 6}\n"
     ]
    }
   ],
   "source": [
    "#updating a dictionary with items from a list of tuples\n",
    "dict_word_freq.update([ ('who', 5), ('when', 5), ('where', 4) , ('what' , 20), ('why', 6)] )\n",
    "print(dict_word_freq)"
   ]
  },
  {
   "cell_type": "markdown",
   "metadata": {},
   "source": [
    "## Create functions to simplify and reuse code"
   ]
  },
  {
   "cell_type": "code",
   "execution_count": 11,
   "metadata": {},
   "outputs": [
    {
     "name": "stdout",
     "output_type": "stream",
     "text": [
      "1\n",
      "2\n",
      "3\n",
      "3\n",
      "2\n",
      "4\n",
      "3\n",
      "5\n",
      "3\n",
      "4\n",
      "2\n",
      "1\n"
     ]
    }
   ],
   "source": [
    "for integer in lst:\n",
    "    print(integer)"
   ]
  },
  {
   "cell_type": "markdown",
   "metadata": {},
   "source": [
    "## Function\n",
    "Here is a simple function that multiplies two numbers in a cell. In the cell below, we call the function and recive the output"
   ]
  },
  {
   "cell_type": "code",
   "execution_count": 12,
   "metadata": {},
   "outputs": [],
   "source": [
    "# function\n",
    "def multiplier(x,y):\n",
    "    z = (x*y)\n",
    "    return z"
   ]
  },
  {
   "cell_type": "code",
   "execution_count": 13,
   "metadata": {},
   "outputs": [
    {
     "data": {
      "text/plain": [
       "6"
      ]
     },
     "execution_count": 13,
     "metadata": {},
     "output_type": "execute_result"
    }
   ],
   "source": [
    "multiplier(2,3)"
   ]
  },
  {
   "cell_type": "markdown",
   "metadata": {},
   "source": [
    "## Create a script that loads data from a csv into a list\n",
    "•\tWrite the file read code\n",
    "•\tHave the code read each item into the list\n",
    "•\tPrint the first 5 elements of the list\n",
    "For more information see here: https://docs.python.org/3.4/library/csv.html"
   ]
  },
  {
   "cell_type": "markdown",
   "metadata": {},
   "source": [
    "### Reading an existing csv file"
   ]
  },
  {
   "cell_type": "code",
   "execution_count": 14,
   "metadata": {},
   "outputs": [
    {
     "name": "stdout",
     "output_type": "stream",
     "text": [
      "['Country_Abbr', ' Country_name', ' Region_ID', '']\n",
      "['AR', 'Argentina', '2', '']\n",
      "['AU', 'Australia', '3', '']\n",
      "['BE', 'Belgium', '1', '']\n",
      "['BR', 'Brazil', '2', '']\n",
      "['CA', 'Canada', '2', '']\n",
      "['CH', 'Switzerland', '1', '']\n",
      "['CN', 'China', '3']\n"
     ]
    }
   ],
   "source": [
    "import csv\n",
    "\n",
    "with open('C:\\\\Users\\\\jopedal1\\\\Documents\\\\countries.csv', 'r') as csv_file:\n",
    "    csv_reader = csv.reader(csv_file, delimiter=',')\n",
    "    for lines in csv_reader:\n",
    "        print(lines)"
   ]
  },
  {
   "cell_type": "markdown",
   "metadata": {},
   "source": [
    "### Creating a list and writing it to a csv file"
   ]
  },
  {
   "cell_type": "code",
   "execution_count": 15,
   "metadata": {},
   "outputs": [],
   "source": [
    "lst_students = []\n",
    "# creating a list of lists\n",
    "lst_students = [['f_name', 'l_name', 'subject'],\n",
    "                ['Bob', 'Hansen', 'Python'],\n",
    "                ['Amy', 'Swenson', 'Python'],\n",
    "                ['Eve', 'Cruz', 'Java']]"
   ]
  },
  {
   "cell_type": "code",
   "execution_count": 16,
   "metadata": {},
   "outputs": [],
   "source": [
    "lst_students.append(['George', 'Black', 'Basic']) # We pass a list as we are appending a list to the list of lists "
   ]
  },
  {
   "cell_type": "code",
   "execution_count": 17,
   "metadata": {},
   "outputs": [
    {
     "name": "stdout",
     "output_type": "stream",
     "text": [
      "[['f_name', 'l_name', 'subject'], ['Bob', 'Hansen', 'Python'], ['Amy', 'Swenson', 'Python'], ['Eve', 'Cruz', 'Java'], ['George', 'Black', 'Basic']]\n"
     ]
    }
   ],
   "source": [
    "print(lst_students)"
   ]
  },
  {
   "cell_type": "code",
   "execution_count": 18,
   "metadata": {},
   "outputs": [],
   "source": [
    "with open('test.csv', 'w', newline='') as file:\n",
    "    writer = csv.writer(file)\n",
    "    writer.writerows(lst_students)"
   ]
  },
  {
   "cell_type": "code",
   "execution_count": 19,
   "metadata": {},
   "outputs": [
    {
     "data": {
      "text/html": [
       "<div>\n",
       "<style scoped>\n",
       "    .dataframe tbody tr th:only-of-type {\n",
       "        vertical-align: middle;\n",
       "    }\n",
       "\n",
       "    .dataframe tbody tr th {\n",
       "        vertical-align: top;\n",
       "    }\n",
       "\n",
       "    .dataframe thead th {\n",
       "        text-align: right;\n",
       "    }\n",
       "</style>\n",
       "<table border=\"1\" class=\"dataframe\">\n",
       "  <thead>\n",
       "    <tr style=\"text-align: right;\">\n",
       "      <th></th>\n",
       "      <th>f_name</th>\n",
       "      <th>l_name</th>\n",
       "      <th>subject</th>\n",
       "    </tr>\n",
       "  </thead>\n",
       "  <tbody>\n",
       "    <tr>\n",
       "      <th>0</th>\n",
       "      <td>Bob</td>\n",
       "      <td>Hansen</td>\n",
       "      <td>Python</td>\n",
       "    </tr>\n",
       "    <tr>\n",
       "      <th>1</th>\n",
       "      <td>Amy</td>\n",
       "      <td>Swenson</td>\n",
       "      <td>Python</td>\n",
       "    </tr>\n",
       "    <tr>\n",
       "      <th>2</th>\n",
       "      <td>Eve</td>\n",
       "      <td>Cruz</td>\n",
       "      <td>Java</td>\n",
       "    </tr>\n",
       "    <tr>\n",
       "      <th>3</th>\n",
       "      <td>George</td>\n",
       "      <td>Black</td>\n",
       "      <td>Basic</td>\n",
       "    </tr>\n",
       "  </tbody>\n",
       "</table>\n",
       "</div>"
      ],
      "text/plain": [
       "   f_name   l_name subject\n",
       "0     Bob   Hansen  Python\n",
       "1     Amy  Swenson  Python\n",
       "2     Eve     Cruz    Java\n",
       "3  George    Black   Basic"
      ]
     },
     "execution_count": 19,
     "metadata": {},
     "output_type": "execute_result"
    }
   ],
   "source": [
    "#Import pandas and check the CSV file\n",
    "import pandas as pd\n",
    "pd.read_csv('test.csv')"
   ]
  },
  {
   "cell_type": "code",
   "execution_count": 20,
   "metadata": {},
   "outputs": [
    {
     "name": "stdout",
     "output_type": "stream",
     "text": [
      "[['f_name', 'l_name', 'subject'], ['Amy', 'Swenson', 'Python'], ['Eve', 'Cruz', 'Java'], ['George', 'Black', 'Basic']]\n"
     ]
    }
   ],
   "source": [
    "lst_students.remove(['Bob', 'Hansen', 'Python'])\n",
    "print(lst_students)"
   ]
  },
  {
   "cell_type": "code",
   "execution_count": 21,
   "metadata": {},
   "outputs": [
    {
     "name": "stdout",
     "output_type": "stream",
     "text": [
      "[['f_name', 'l_name', 'subject'], ['Eve', 'Cruz', 'Java'], ['George', 'Black', 'Basic']]\n"
     ]
    }
   ],
   "source": [
    "del(lst_students[1])\n",
    "print(lst_students)"
   ]
  },
  {
   "cell_type": "markdown",
   "metadata": {},
   "source": [
    "### Creating a dictionary and writing it to a csv file"
   ]
  },
  {
   "cell_type": "code",
   "execution_count": 22,
   "metadata": {},
   "outputs": [],
   "source": [
    "dct = {}\n",
    "dct = {'Key1': 'Value1','Key2': 'Value2', 'Key3': 'Value3',}"
   ]
  },
  {
   "cell_type": "code",
   "execution_count": 23,
   "metadata": {},
   "outputs": [],
   "source": [
    "# write dictionary to csv\n",
    "with open('dictionary.csv', 'w') as csv_file:\n",
    "    writer = csv.writer(csv_file)\n",
    "    for key, value in dct.items():\n",
    "        writer.writerow([key, value])"
   ]
  },
  {
   "cell_type": "code",
   "execution_count": 24,
   "metadata": {},
   "outputs": [
    {
     "data": {
      "text/html": [
       "<div>\n",
       "<style scoped>\n",
       "    .dataframe tbody tr th:only-of-type {\n",
       "        vertical-align: middle;\n",
       "    }\n",
       "\n",
       "    .dataframe tbody tr th {\n",
       "        vertical-align: top;\n",
       "    }\n",
       "\n",
       "    .dataframe thead th {\n",
       "        text-align: right;\n",
       "    }\n",
       "</style>\n",
       "<table border=\"1\" class=\"dataframe\">\n",
       "  <thead>\n",
       "    <tr style=\"text-align: right;\">\n",
       "      <th></th>\n",
       "      <th>Key1</th>\n",
       "      <th>Value1</th>\n",
       "    </tr>\n",
       "  </thead>\n",
       "  <tbody>\n",
       "    <tr>\n",
       "      <th>0</th>\n",
       "      <td>Key2</td>\n",
       "      <td>Value2</td>\n",
       "    </tr>\n",
       "    <tr>\n",
       "      <th>1</th>\n",
       "      <td>Key3</td>\n",
       "      <td>Value3</td>\n",
       "    </tr>\n",
       "  </tbody>\n",
       "</table>\n",
       "</div>"
      ],
      "text/plain": [
       "   Key1  Value1\n",
       "0  Key2  Value2\n",
       "1  Key3  Value3"
      ]
     },
     "execution_count": 24,
     "metadata": {},
     "output_type": "execute_result"
    }
   ],
   "source": [
    "# check the content of the csv\n",
    "pd.read_csv('dictionary.csv')"
   ]
  }
 ],
 "metadata": {
  "kernelspec": {
   "display_name": "Python 3",
   "language": "python",
   "name": "python3"
  },
  "language_info": {
   "codemirror_mode": {
    "name": "ipython",
    "version": 3
   },
   "file_extension": ".py",
   "mimetype": "text/x-python",
   "name": "python",
   "nbconvert_exporter": "python",
   "pygments_lexer": "ipython3",
   "version": "3.6.5"
  }
 },
 "nbformat": 4,
 "nbformat_minor": 2
}
