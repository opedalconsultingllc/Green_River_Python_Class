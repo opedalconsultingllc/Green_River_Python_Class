{
 "cells": [
  {
   "cell_type": "markdown",
   "metadata": {},
   "source": [
    "# Welcome to the Python programming class \n",
    "## Lecture 5\n",
    "## Objective 5\n",
    "###  Write a script that interfaces with a SQL database "
   ]
  },
  {
   "cell_type": "markdown",
   "metadata": {},
   "source": [
    "#### To import the Pandas and Numpy module use the following syntax\n",
    "##### import pandas as pd \n",
    "##### import numpy as np \n",
    "\n",
    "## Pandas\n",
    "Pandas with sqlalchemy and pyodbc provides connections to Microsoft SQL databases. Other libraries that are similar to pyodbc are used for other databases such as sqlite, MySQL, Oracle, Postgres, MongoDB, etc. These will not be covered in class. Only pyodbc\n",
    "\n",
    "##### Resource: https://pandas.pydata.org/pandas-docs/stable/generated/pandas.DataFrame.to_sql.html"
   ]
  },
  {
   "cell_type": "code",
   "execution_count": 1,
   "metadata": {},
   "outputs": [],
   "source": [
    "import pandas as pd #for db connection and data manipulation\n",
    "import pyodbc\n",
    "import urllib\n",
    "#import sqlalchemy\n",
    "from sqlalchemy import create_engine"
   ]
  },
  {
   "cell_type": "markdown",
   "metadata": {},
   "source": [
    "## Connecting to a Microsoft SQL database with Pandas"
   ]
  },
  {
   "cell_type": "code",
   "execution_count": 2,
   "metadata": {},
   "outputs": [
    {
     "data": {
      "text/plain": [
       "\"\\nparams = 'DRIVER={ODBC Driver 13 for SQL Server};'          'SERVER=ServerNameGoesHere;'          'PORT=1433;'          'DATABASE=DataBaseNameGoesHere;'          'UID=UserNameGoesHere;'          'PWD=PassWordGoesHere;'\\n            \\nparams = urllib.parse.quote_plus(params)\\n\""
      ]
     },
     "execution_count": 2,
     "metadata": {},
     "output_type": "execute_result"
    }
   ],
   "source": [
    "'''\n",
    "params = 'DRIVER={ODBC Driver 13 for SQL Server};' \\\n",
    "         'SERVER=ServerNameGoesHere;' \\\n",
    "         'PORT=1433;' \\\n",
    "         'DATABASE=DataBaseNameGoesHere;' \\\n",
    "         'UID=UserNameGoesHere;' \\\n",
    "         'PWD=PassWordGoesHere;'\n",
    "            \n",
    "params = urllib.parse.quote_plus(params)\n",
    "'''"
   ]
  },
  {
   "cell_type": "code",
   "execution_count": 3,
   "metadata": {},
   "outputs": [
    {
     "data": {
      "text/plain": [
       "\"\\ndb = create_engine('mssql+pyodbc:///?odbc_connect=%s' % params)\\n\""
      ]
     },
     "execution_count": 3,
     "metadata": {},
     "output_type": "execute_result"
    }
   ],
   "source": [
    "'''\n",
    "db = create_engine('mssql+pyodbc:///?odbc_connect=%s' % params)\n",
    "'''"
   ]
  },
  {
   "cell_type": "code",
   "execution_count": 4,
   "metadata": {},
   "outputs": [
    {
     "data": {
      "text/plain": [
       "'\\nquery = \"SELECT * FROM [DataBaseNameGoesHere].[dbo].[TableNameGoesHere]\"\\n'"
      ]
     },
     "execution_count": 4,
     "metadata": {},
     "output_type": "execute_result"
    }
   ],
   "source": [
    "'''\n",
    "query = \"SELECT * \\\n",
    "FROM [DataBaseNameGoesHere].[dbo].[TableNameGoesHere]\"\n",
    "'''"
   ]
  },
  {
   "cell_type": "code",
   "execution_count": 5,
   "metadata": {},
   "outputs": [
    {
     "data": {
      "text/plain": [
       "'\\ndf = pd.read_sql_query(query, db)\\n'"
      ]
     },
     "execution_count": 5,
     "metadata": {},
     "output_type": "execute_result"
    }
   ],
   "source": [
    "'''\n",
    "df = pd.read_sql_query(query, db)\n",
    "'''"
   ]
  },
  {
   "cell_type": "markdown",
   "metadata": {},
   "source": [
    "## Writing to a Microsoft SQL database with Pandas"
   ]
  },
  {
   "cell_type": "code",
   "execution_count": 6,
   "metadata": {},
   "outputs": [],
   "source": [
    "# creating a variable to hold the dataframe and read the csv results into that dataframe\n",
    "# UCLA IDRE\n",
    "df_to_write = pd.read_csv('https://stats.idre.ucla.edu/stat/data/hsbdemo.csv')"
   ]
  },
  {
   "cell_type": "code",
   "execution_count": 7,
   "metadata": {},
   "outputs": [
    {
     "data": {
      "text/plain": [
       "\"\\ndb_table_name = create_engine('mssql+pyodbc:///?odbc_connect=%s' % params)\\ndf_to_write.to_sql('student_scores', con=db_double_certs, if_exists = 'append', index=False) \\n\""
      ]
     },
     "execution_count": 7,
     "metadata": {},
     "output_type": "execute_result"
    }
   ],
   "source": [
    "#Write to the db \n",
    "'''\n",
    "db_table_name = create_engine('mssql+pyodbc:///?odbc_connect=%s' % params)\n",
    "df_to_write.to_sql('student_scores', con=db_double_certs, if_exists = 'append', index=False) \n",
    "'''\n",
    "# if_exists : {'fail', 'replace', 'append'}"
   ]
  }
 ],
 "metadata": {
  "kernelspec": {
   "display_name": "Python 3",
   "language": "python",
   "name": "python3"
  },
  "language_info": {
   "codemirror_mode": {
    "name": "ipython",
    "version": 3
   },
   "file_extension": ".py",
   "mimetype": "text/x-python",
   "name": "python",
   "nbconvert_exporter": "python",
   "pygments_lexer": "ipython3",
   "version": "3.6.5"
  }
 },
 "nbformat": 4,
 "nbformat_minor": 2
}
