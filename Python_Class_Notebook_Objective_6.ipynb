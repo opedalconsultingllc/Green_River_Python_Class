{
 "cells": [
  {
   "cell_type": "markdown",
   "metadata": {},
   "source": [
    "![image.png](GRC-logo_digital-green.png)\n",
    "\n",
    "# Welcome to Python programming class \n",
    "# Objective 6\n",
    "## Write a web front end that interfaces with a SQL database "
   ]
  },
  {
   "cell_type": "markdown",
   "metadata": {},
   "source": [
    "#### For this lecture and lab, we will use VS Code as Flask does not work well with Jupyter\n",
    "A sample code file will be provided in class\n",
    "\n",
    "## Flask (web framework)\n",
    "Flask is a light weight micro web framework for Python developers that does not require particular tools or libraries and has no database abstraction layer, form validation, or other components. \n",
    "\n",
    "##### Flask Resource: https://en.wikipedia.org/wiki/Flask_(web_framework)\n",
    "\n",
    "##### VSCode Flask Resource: https://code.visualstudio.com/docs/python/tutorial-flask"
   ]
  },
  {
   "cell_type": "markdown",
   "metadata": {},
   "source": [
    "\n",
    "References: Flask (web framework). (n.d.). In Wikipedia. Retrieved November 18, 2018 from https://en.wikipedia.org/wiki/Flask_(web_framework)"
   ]
  },
  {
   "cell_type": "raw",
   "metadata": {},
   "source": [
    "# The following code will be used to create a flask application, but it will be using VSCode and virtual environment\n",
    "\n",
    "from flask import Flask\n",
    "from flask import abort\n",
    "from flask import make_response\n",
    "from flask import request\n",
    " \n",
    "app = Flask(__name__) \n",
    "#execute first section of code first to demonstrate Flask\n",
    "@app.route('/') \n",
    "def index(): \n",
    "    return \"Hello Green River Class!\"\n",
    "\n",
    "#execute this section next to show how an API is built\n",
    "#remove the comments\n",
    "\n",
    "#tasks = [ { 'id': 1, 'title': u'Code in Python', 'description': u'Numpy, Pandas, #Scikit, Conda, Pip', 'done': False }, { 'id': 2, 'title': u'Learn Python', #'description': u'Need to work on homework for Python class', 'done': False } ] \n",
    "\n",
    "#@app.route('/todo/api/v1.0/tasks', methods=['GET']) \n",
    "\n",
    "#def get_tasks(): \n",
    "#    return jsonify({'tasks': tasks}) \n",
    "\n",
    "#execute this section next \n",
    "\n",
    "#@app.route('/todo/api/v1.0/tasks/<int:task_id>', methods=['GET']) \n",
    "#def #get_task(task_id):\n",
    "#    task = [task for task in tasks if task['id'] == task_id] \n",
    "#    if #len(task) == 0: \n",
    "#        abort(404) \n",
    "#    return jsonify({'task': task[0]})\n",
    "\n",
    "#@app.errorhandler(404) \n",
    "#def not_found(error): \n",
    "#    return make_response(jsonify({'error': 'Not found'}), 404)\n",
    "\n",
    "#@app.route('/todo/api/v1.0/tasks', methods=['POST']) \n",
    "#def create_task(): \n",
    "#    if not request.json or not 'title' in request.json: abort(400) \n",
    "#    task = { 'id': tasks[-1]['id'] + 1, 'title': request.json['title'], 'description': #request.json.get('description', \"\"), 'done': False } tasks.append(task) \n",
    "#    return       jsonify({'task': task}), 201\n",
    "\n",
    "#@app.route('/todo/api/v1.0/tasks/<int:task_id>', methods=['PUT'])\n",
    "#def update_task(task_id):\n",
    "#    task = [task for task in tasks if task['id'] == task_id]\n",
    "#    if len(task) == 0:\n",
    "#        abort(404)\n",
    "#    if not request.json:\n",
    "#        abort(400)\n",
    "#    if 'title' in request.json and type(request.json['title']) != unicode:\n",
    "#        abort(400)\n",
    "#    if 'description' in request.json and type(request.json['description']) is not unicode:\n",
    "#        abort(400)\n",
    "#    if 'done' in request.json and type(request.json['done']) is not bool:\n",
    "#        abort(400)\n",
    "#    task[0]['title'] = request.json.get('title', task[0]['title'])\n",
    "#    task[0]['description'] = request.json.get('description', task[0]['description'])\n",
    "#    task[0]['done'] = request.json.get('done', task[0]['done'])\n",
    "#    return jsonify({'task': task[0]})\n",
    "\n",
    "# Delete section\n",
    "#@app.route('/todo/api/v1.0/tasks/<int:task_id>', methods=['DELETE']) \n",
    "#def delete_task(task_id): \n",
    "#    task = [task for task in tasks \n",
    "#    if task['id'] == task_id] \n",
    "#    if len(task) == 0: \n",
    "#        abort(404) \n",
    "#    tasks.remove(task[0]) \n",
    "#    return jsonify({'result': True})\n",
    "\n",
    "if __name__ == '__main__':\n",
    "    app.run(debug=False)\n"
   ]
  }
 ],
 "metadata": {
  "kernelspec": {
   "display_name": "Python 3",
   "language": "python",
   "name": "python3"
  },
  "language_info": {
   "codemirror_mode": {
    "name": "ipython",
    "version": 3
   },
   "file_extension": ".py",
   "mimetype": "text/x-python",
   "name": "python",
   "nbconvert_exporter": "python",
   "pygments_lexer": "ipython3",
   "version": "3.6.5"
  }
 },
 "nbformat": 4,
 "nbformat_minor": 2
}
